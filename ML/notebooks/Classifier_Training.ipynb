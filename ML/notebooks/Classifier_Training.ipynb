{
 "cells": [
  {
   "metadata": {
    "ExecuteTime": {
     "end_time": "2025-10-18T12:44:40.398467Z",
     "start_time": "2025-10-18T12:44:38.338775Z"
    }
   },
   "cell_type": "code",
   "source": [
    "import pandas as pd\n",
    "import joblib\n",
    "import os\n",
    "\n",
    "from sklearn.model_selection import train_test_split\n",
    "from sklearn.feature_extraction.text import TfidfVectorizer\n",
    "from sklearn.linear_model import SGDClassifier\n",
    "from sklearn.pipeline import Pipeline\n",
    "from sklearn.metrics import classification_report, accuracy_score\n",
    "\n",
    "DATA_PATH = \"data/requests_labeled.csv\"\n",
    "MODEL_OUTPUT_PATH = \"../app/models/classifier.joblib\""
   ],
   "id": "180ada7b6e7bbe23",
   "outputs": [],
   "execution_count": 1
  },
  {
   "metadata": {
    "ExecuteTime": {
     "end_time": "2025-10-18T12:48:19.609612Z",
     "start_time": "2025-10-18T12:48:19.595104Z"
    }
   },
   "cell_type": "code",
   "source": [
    "try:\n",
    "    df = pd.read_csv(DATA_PATH)\n",
    "except FileNotFoundError:\n",
    "    print(f\"Ошибка: файл {DATA_PATH} не найден. Убедитесь, что он лежит в правильной папке.\")\n",
    "    assert False, \"File not found\"\n",
    "\n",
    "df.columns = ['id', 'text', 'category']\n",
    "\n",
    "print(f\"Загружено {len(df)} размеченных обращений.\")\n",
    "print(\"\\nПримеры данных:\")\n",
    "display(df.head())\n",
    "\n",
    "print(\"\\nРаспределение по категориям:\")\n",
    "print(df['category'].value_counts())\n",
    "\n",
    "print(\"\\nПроверка на пропуски:\")\n",
    "print(df.isnull().sum())\n",
    "\n",
    "df.dropna(subset=['text', 'category'], inplace=True)\n",
    "print(f\"\\nОсталось обращений после очистки: {len(df)}\")"
   ],
   "id": "dadf2985efd4a21e",
   "outputs": [
    {
     "name": "stdout",
     "output_type": "stream",
     "text": [
      "Загружено 822 размеченных обращений.\n",
      "\n",
      "Примеры данных:\n"
     ]
    },
    {
     "data": {
      "text/plain": [
       "   id                                               text     category\n",
       "0   1  Jenkins-pipeline падает на этапе build (npm in...           IT\n",
       "1   2  Не приходит зарплата за сентябрь, начисление е...           HR\n",
       "2   3  Сверка по НДС: формируется неверно в отчёте за...  Бухгалтерия\n",
       "3   4  Не подключается сетевой диск: permission denie...           IT\n",
       "4   5  Прошу оформить отпуск с 10.11 по 24.11 включит...           HR"
      ],
      "text/html": [
       "<div>\n",
       "<style scoped>\n",
       "    .dataframe tbody tr th:only-of-type {\n",
       "        vertical-align: middle;\n",
       "    }\n",
       "\n",
       "    .dataframe tbody tr th {\n",
       "        vertical-align: top;\n",
       "    }\n",
       "\n",
       "    .dataframe thead th {\n",
       "        text-align: right;\n",
       "    }\n",
       "</style>\n",
       "<table border=\"1\" class=\"dataframe\">\n",
       "  <thead>\n",
       "    <tr style=\"text-align: right;\">\n",
       "      <th></th>\n",
       "      <th>id</th>\n",
       "      <th>text</th>\n",
       "      <th>category</th>\n",
       "    </tr>\n",
       "  </thead>\n",
       "  <tbody>\n",
       "    <tr>\n",
       "      <th>0</th>\n",
       "      <td>1</td>\n",
       "      <td>Jenkins-pipeline падает на этапе build (npm in...</td>\n",
       "      <td>IT</td>\n",
       "    </tr>\n",
       "    <tr>\n",
       "      <th>1</th>\n",
       "      <td>2</td>\n",
       "      <td>Не приходит зарплата за сентябрь, начисление е...</td>\n",
       "      <td>HR</td>\n",
       "    </tr>\n",
       "    <tr>\n",
       "      <th>2</th>\n",
       "      <td>3</td>\n",
       "      <td>Сверка по НДС: формируется неверно в отчёте за...</td>\n",
       "      <td>Бухгалтерия</td>\n",
       "    </tr>\n",
       "    <tr>\n",
       "      <th>3</th>\n",
       "      <td>4</td>\n",
       "      <td>Не подключается сетевой диск: permission denie...</td>\n",
       "      <td>IT</td>\n",
       "    </tr>\n",
       "    <tr>\n",
       "      <th>4</th>\n",
       "      <td>5</td>\n",
       "      <td>Прошу оформить отпуск с 10.11 по 24.11 включит...</td>\n",
       "      <td>HR</td>\n",
       "    </tr>\n",
       "  </tbody>\n",
       "</table>\n",
       "</div>"
      ]
     },
     "metadata": {},
     "output_type": "display_data"
    },
    {
     "name": "stdout",
     "output_type": "stream",
     "text": [
      "\n",
      "Распределение по категориям:\n",
      "category\n",
      "IT             274\n",
      "HR             261\n",
      "Бухгалтерия    259\n",
      "Мусорный        28\n",
      "Name: count, dtype: int64\n",
      "\n",
      "Проверка на пропуски:\n",
      "id          0\n",
      "text        0\n",
      "category    0\n",
      "dtype: int64\n",
      "\n",
      "Осталось обращений после очистки: 822\n"
     ]
    }
   ],
   "execution_count": 7
  },
  {
   "metadata": {
    "ExecuteTime": {
     "end_time": "2025-10-18T12:49:01.821766Z",
     "start_time": "2025-10-18T12:49:01.789179Z"
    }
   },
   "cell_type": "code",
   "source": [
    "X = df['text']\n",
    "y = df['category']\n",
    "\n",
    "X_train, X_test, y_train, y_test = train_test_split(X, y, test_size=0.2, random_state=42, stratify=y)\n",
    "\n",
    "print(f\"Размер обучающей выборки: {len(X_train)}\")\n",
    "print(f\"Размер тестовой выборки: {len(X_test)}\")\n",
    "\n",
    "text_clf = Pipeline([\n",
    "    ('tfidf', TfidfVectorizer(ngram_range=(1, 2), max_df=0.95, min_df=2)),\n",
    "    ('clf', SGDClassifier(loss='hinge', penalty='l2', alpha=1e-4, random_state=42, max_iter=200, tol=1e-3)),\n",
    "])\n",
    "\n",
    "print(\"\\nНачинаю обучение модели...\")\n",
    "text_clf.fit(X_train, y_train)\n",
    "print(\"Обучение завершено.\")"
   ],
   "id": "b15439405fdb00",
   "outputs": [
    {
     "name": "stdout",
     "output_type": "stream",
     "text": [
      "Размер обучающей выборки: 657\n",
      "Размер тестовой выборки: 165\n",
      "\n",
      "Начинаю обучение модели...\n",
      "Обучение завершено.\n"
     ]
    }
   ],
   "execution_count": 9
  },
  {
   "metadata": {
    "ExecuteTime": {
     "end_time": "2025-10-18T12:49:21.638667Z",
     "start_time": "2025-10-18T12:49:21.621180Z"
    }
   },
   "cell_type": "code",
   "source": [
    "predicted = text_clf.predict(X_test)\n",
    "\n",
    "accuracy = accuracy_score(y_test, predicted)\n",
    "print(f\"\\nОбщая точность (Accuracy): {accuracy:.2f}\")\n",
    "\n",
    "print(\"\\nОтчёт по качеству классификации:\\n\")\n",
    "print(classification_report(y_test, predicted))\n",
    "\n",
    "print(\"\\n--- Тестовые предсказания ---\")\n",
    "test_cases = [\n",
    "    \"Прошу согласовать гибкий график работы\",\n",
    "    \"Не работает принтер, нужна замена картриджа\",\n",
    "    \"В отчёте по НДС не сходятся суммы\",\n",
    "    \"На парковке кто-то занял моё место\"\n",
    "]\n",
    "for case in test_cases:\n",
    "    prediction = text_clf.predict([case])[0]\n",
    "    print(f\"Запрос: '{case}' -> Предсказание: {prediction}\")"
   ],
   "id": "d66775648c5e63d5",
   "outputs": [
    {
     "name": "stdout",
     "output_type": "stream",
     "text": [
      "\n",
      "Общая точность (Accuracy): 0.90\n",
      "\n",
      "Отчёт по качеству классификации:\n",
      "\n",
      "              precision    recall  f1-score   support\n",
      "\n",
      "          HR       0.96      0.98      0.97        52\n",
      "          IT       0.87      0.85      0.86        55\n",
      " Бухгалтерия       0.91      0.92      0.91        52\n",
      "    Мусорный       0.40      0.33      0.36         6\n",
      "\n",
      "    accuracy                           0.90       165\n",
      "   macro avg       0.78      0.77      0.78       165\n",
      "weighted avg       0.89      0.90      0.89       165\n",
      "\n",
      "\n",
      "--- Тестовые предсказания ---\n",
      "Запрос: 'Прошу согласовать гибкий график работы' -> Предсказание: HR\n",
      "Запрос: 'Не работает принтер, нужна замена картриджа' -> Предсказание: IT\n",
      "Запрос: 'В отчёте по НДС не сходятся суммы' -> Предсказание: Бухгалтерия\n",
      "Запрос: 'На парковке кто-то занял моё место' -> Предсказание: IT\n"
     ]
    }
   ],
   "execution_count": 10
  },
  {
   "metadata": {
    "ExecuteTime": {
     "end_time": "2025-10-18T12:49:54.965384Z",
     "start_time": "2025-10-18T12:49:54.957069Z"
    }
   },
   "cell_type": "code",
   "source": [
    "output_dir = os.path.dirname(MODEL_OUTPUT_PATH)\n",
    "os.makedirs(output_dir, exist_ok=True)\n",
    "\n",
    "joblib.dump(text_clf, MODEL_OUTPUT_PATH)\n",
    "\n",
    "print(f\"\\nМодель успешно сохранена в: {MODEL_OUTPUT_PATH}\")"
   ],
   "id": "faca3150283f624c",
   "outputs": [
    {
     "name": "stdout",
     "output_type": "stream",
     "text": [
      "\n",
      "Модель успешно сохранена в: ../app/models/classifier.joblib\n"
     ]
    }
   ],
   "execution_count": 11
  },
  {
   "metadata": {},
   "cell_type": "code",
   "outputs": [],
   "execution_count": null,
   "source": "",
   "id": "9031c5dfa672f1b"
  }
 ],
 "metadata": {
  "kernelspec": {
   "name": "python3",
   "language": "python",
   "display_name": "Python 3 (ipykernel)"
  }
 },
 "nbformat": 4,
 "nbformat_minor": 5
}
